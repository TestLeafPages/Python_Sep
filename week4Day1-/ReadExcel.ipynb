{
 "cells": [
  {
   "cell_type": "code",
   "execution_count": 27,
   "metadata": {},
   "outputs": [
    {
     "name": "stdout",
     "output_type": "stream",
     "text": [
      "['Sheet']\n",
      "<Worksheet \"Sheet\">\n",
      "Sheet\n",
      "4\n",
      "3\n",
      "Product\n",
      "Amount\n",
      "Price\n",
      "Babu\n",
      "1\n",
      "345\n",
      "sarath\n",
      "2\n",
      "45\n",
      "balaji\n",
      "3\n",
      "677\n"
     ]
    }
   ],
   "source": [
    "#Step 1: install openpyxl - pip install openpyxl\n",
    "\n",
    "#Read Excel\n",
    "import openpyxl\n",
    "\n",
    "#Load the workbook(excel)\n",
    "wb = openpyxl.load_workbook('C:\\\\Users\\\\gopir\\\\Desktop\\\\Gopi.xlsx')\n",
    "\n",
    "# returns sheet names\n",
    "print(wb.sheetnames)\n",
    "\n",
    "#find the current active sheet\n",
    "print(wb.active)\n",
    "\n",
    "#wb['Sheet'].active.title\n",
    "\n",
    "#create the object for specific sheet\n",
    "sh = wb['Sheet']\n",
    "print(sh.title)\n",
    "\n",
    "#Way 1 to read the value \n",
    "# print(sh['A1'].value)\n",
    "# print(sh['C4'].value)\n",
    "\n",
    "#row count\n",
    "print(sh.max_row)\n",
    "# Column count\n",
    "print(sh.max_column)\n",
    "\n",
    "# for row in range(1, sh.max_row+1): # for rows\n",
    "#     for cell in range(1, sh.max_column+1): # for cell\n",
    "#         cell = sh.cell(row, cell)\n",
    "#         print(cell.value)\n",
    "\n",
    "for row in sh['A1' : 'C4']:\n",
    "    for cell in row:\n",
    "        print(cell.value)\n",
    "\n",
    "\n",
    "\n",
    "\n",
    "\n",
    "\n",
    "\n"
   ]
  },
  {
   "cell_type": "code",
   "execution_count": null,
   "metadata": {},
   "outputs": [],
   "source": []
  }
 ],
 "metadata": {
  "kernelspec": {
   "display_name": "Python 3",
   "language": "python",
   "name": "python3"
  },
  "language_info": {
   "codemirror_mode": {
    "name": "ipython",
    "version": 3
   },
   "file_extension": ".py",
   "mimetype": "text/x-python",
   "name": "python",
   "nbconvert_exporter": "python",
   "pygments_lexer": "ipython3",
   "version": "3.7.3"
  }
 },
 "nbformat": 4,
 "nbformat_minor": 2
}
