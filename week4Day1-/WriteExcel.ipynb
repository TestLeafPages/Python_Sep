{
 "cells": [
  {
   "cell_type": "code",
   "execution_count": 8,
   "metadata": {},
   "outputs": [],
   "source": [
    "#Write Excel\n",
    "\n",
    "from openpyxl import Workbook\n",
    "\n",
    "#create object - Workbook\n",
    "wb = Workbook()\n",
    "\n",
    "#grab the specific sheet\n",
    "sh = wb.active\n",
    "\n",
    "# for sheet Name\n",
    "sh.title = \"test1\"\n",
    "\n",
    "# for writing\n",
    "sh['A1'].value = 'Testleaf'\n",
    "#sh['B1'].value = [('1', '2', '3')]\n",
    "sh.append(['1', '2', '3'])\n",
    "\n",
    "#for saving\n",
    "wb.save('C:\\\\Users\\\\gopir\\\\Desktop\\\\sample1.xlsx')\n",
    "\n",
    "\n",
    "\n",
    "\n"
   ]
  },
  {
   "cell_type": "code",
   "execution_count": null,
   "metadata": {},
   "outputs": [],
   "source": []
  }
 ],
 "metadata": {
  "kernelspec": {
   "display_name": "Python 3",
   "language": "python",
   "name": "python3"
  },
  "language_info": {
   "codemirror_mode": {
    "name": "ipython",
    "version": 3
   },
   "file_extension": ".py",
   "mimetype": "text/x-python",
   "name": "python",
   "nbconvert_exporter": "python",
   "pygments_lexer": "ipython3",
   "version": "3.7.3"
  }
 },
 "nbformat": 4,
 "nbformat_minor": 2
}
