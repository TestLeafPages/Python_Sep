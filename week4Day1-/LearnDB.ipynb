{
 "cells": [
  {
   "cell_type": "code",
   "execution_count": 6,
   "metadata": {},
   "outputs": [
    {
     "name": "stdout",
     "output_type": "stream",
     "text": [
      "create Table\n"
     ]
    }
   ],
   "source": [
    "import sqlite3\n",
    "\n",
    "#Create connect\n",
    "con = sqlite3.connect('C:\\\\Users\\\\gopir\\\\Desktop\\\\sampleDB.db')\n",
    "print('create Table')"
   ]
  },
  {
   "cell_type": "code",
   "execution_count": 8,
   "metadata": {},
   "outputs": [
    {
     "name": "stdout",
     "output_type": "stream",
     "text": [
      "Table created\n"
     ]
    }
   ],
   "source": [
    "#Create Table\n",
    "con.execute(''' CREATE TABLE IF NOT EXISTS testleaf('NAME', 'USERNAME', 'EMAIL', 'PH') ''')\n",
    "print('Table created')"
   ]
  },
  {
   "cell_type": "code",
   "execution_count": 10,
   "metadata": {},
   "outputs": [],
   "source": [
    "#Insert Records\n",
    "con.execute(''' INSERT INTO testleaf('NAME', 'USERNAME', 'EMAIL', 'PH') \n",
    "VALUES('Babu', 'BABU M', 'babu@testleaf.com', '1234')''')\n",
    "con.commit()\n"
   ]
  },
  {
   "cell_type": "code",
   "execution_count": 12,
   "metadata": {},
   "outputs": [
    {
     "name": "stdout",
     "output_type": "stream",
     "text": [
      "('Babu', 'BABU M', 'babu@testleaf.com', '1234')\n"
     ]
    }
   ],
   "source": [
    "# Read the Data\n",
    "data = con.execute('SELECT * FROM testleaf')\n",
    "for i in data:\n",
    "    print(i)"
   ]
  },
  {
   "cell_type": "code",
   "execution_count": 13,
   "metadata": {},
   "outputs": [],
   "source": [
    "#update \n",
    "con.execute('''  ''')"
   ]
  },
  {
   "cell_type": "code",
   "execution_count": null,
   "metadata": {},
   "outputs": [],
   "source": [
    "# close\n",
    "con.close()\n",
    "print('close')"
   ]
  }
 ],
 "metadata": {
  "kernelspec": {
   "display_name": "Python 3",
   "language": "python",
   "name": "python3"
  },
  "language_info": {
   "codemirror_mode": {
    "name": "ipython",
    "version": 3
   },
   "file_extension": ".py",
   "mimetype": "text/x-python",
   "name": "python",
   "nbconvert_exporter": "python",
   "pygments_lexer": "ipython3",
   "version": "3.7.3"
  }
 },
 "nbformat": 4,
 "nbformat_minor": 2
}
