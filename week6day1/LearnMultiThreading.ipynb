{
 "cells": [
  {
   "cell_type": "code",
   "execution_count": null,
   "metadata": {},
   "outputs": [],
   "source": [
    "# Process:- A Running Program is called a 'Process'.\n",
    "    #       Each Process has memory, list of open files, stack program counter, etc\n",
    "    #       Normally, a process executes statement in a single sequence of control flow.\n",
    "    \n",
    "\n",
    "# Thread Basic:- A Thread is light-weight process (it's a sequence of control flow)\n",
    "    #            Threading is a feature usually provided by the operating system.\n",
    "    #            Except that it exists entirely inside a process and shares resources.\n",
    "    #            A Single process may have multiple threads of execution.\n",
    "    #            Useful when an aplication wants to perform many concurrent tasks on shared data.for Example: Think about \n",
    "    #            a browser(loading pages, animations, etc) \n",
    "\n",
    "# Advantages:- Multithreaded programs can run faster on computer system wiht multiple CPU's because theses threads can be truly concurrent.\n",
    "\n"
   ]
  },
  {
   "cell_type": "code",
   "execution_count": 4,
   "metadata": {},
   "outputs": [
    {
     "name": "stdout",
     "output_type": "stream",
     "text": [
      "2\n",
      "4\n",
      "6\n",
      "8\n",
      "10\n",
      "12\n",
      "14\n",
      "16\n",
      "18\n",
      "1\n",
      "3\n",
      "5\n",
      "7\n",
      "9\n",
      "11\n",
      "13\n",
      "15\n",
      "17\n",
      "19\n"
     ]
    }
   ],
   "source": [
    "import time\n",
    "\n",
    "class Process1():\n",
    "    def run(self):\n",
    "        list1=[]\n",
    "        for i in range(1,20):\n",
    "            if i%2==0:\n",
    "                list1.append(i)\n",
    "                print(i)\n",
    "                time.sleep(0.2)\n",
    "                \n",
    "class Process2():\n",
    "    def run(self):\n",
    "        list2=[]\n",
    "        for i in range(1,20):\n",
    "            if i%2!=0:\n",
    "                list2.append(i)\n",
    "                print(i)\n",
    "                time.sleep(0.2)\n",
    "                \n",
    "time.time()\n",
    "one = Process1()\n",
    "one.run()\n",
    "\n",
    "two = Process2()\n",
    "two.run()"
   ]
  },
  {
   "cell_type": "code",
   "execution_count": 5,
   "metadata": {},
   "outputs": [
    {
     "name": "stdout",
     "output_type": "stream",
     "text": [
      "2\n",
      "1\n",
      "4\n",
      "3\n",
      "6\n",
      "5\n",
      "8\n",
      "7\n",
      "10\n",
      "9\n",
      "12\n",
      "11\n",
      "14\n",
      "13\n",
      "16\n",
      "15\n",
      "18\n",
      "17\n",
      "19\n",
      "hello\n"
     ]
    }
   ],
   "source": [
    "from threading import * \n",
    "import time\n",
    "\n",
    "class Process1(Thread):\n",
    "    def run(self):\n",
    "        list1=[]\n",
    "        for i in range(1,20):\n",
    "            if i%2==0:\n",
    "                list1.append(i)\n",
    "                print(i)\n",
    "                time.sleep(1)\n",
    "                \n",
    "class Process2(Thread):\n",
    "    def run(self):\n",
    "        list2=[]\n",
    "        for i in range(1,20):\n",
    "            if i%2!=0:\n",
    "                list2.append(i)\n",
    "                print(i)\n",
    "                time.sleep(1)\n",
    "one = Process1()\n",
    "one.start()\n",
    "\n",
    "two = Process2()\n",
    "two.start()\n",
    "\n",
    "\n",
    "one.join()\n",
    "\n",
    "two.join()\n",
    "\n",
    "print(\"hello\")\n",
    "\n",
    "\n"
   ]
  },
  {
   "cell_type": "code",
   "execution_count": null,
   "metadata": {},
   "outputs": [],
   "source": [
    "\n",
    "\n",
    "\n",
    "\n",
    "\n"
   ]
  },
  {
   "cell_type": "code",
   "execution_count": null,
   "metadata": {},
   "outputs": [],
   "source": []
  }
 ],
 "metadata": {
  "kernelspec": {
   "display_name": "Python 3",
   "language": "python",
   "name": "python3"
  },
  "language_info": {
   "codemirror_mode": {
    "name": "ipython",
    "version": 3
   },
   "file_extension": ".py",
   "mimetype": "text/x-python",
   "name": "python",
   "nbconvert_exporter": "python",
   "pygments_lexer": "ipython3",
   "version": "3.7.3"
  }
 },
 "nbformat": 4,
 "nbformat_minor": 2
}
