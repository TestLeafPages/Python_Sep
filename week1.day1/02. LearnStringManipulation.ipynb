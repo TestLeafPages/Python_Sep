{
 "cells": [
  {
   "cell_type": "code",
   "execution_count": 1,
   "metadata": {},
   "outputs": [
    {
     "name": "stdout",
     "output_type": "stream",
     "text": [
      "Welcome to the Python World\n",
      "welcome to the Python World\n",
      "I don't know about Python before\n",
      "I don't know about \"Python\" language before \n",
      "Python is an interpreted, high-level, general-purpose programming language\n",
      "Created by Guido van Rossum and first released in 1991,\n"
     ]
    }
   ],
   "source": [
    "# String Manipulations:-\n",
    "\n",
    "print ('Welcome to the Python World')\n",
    "print (\"welcome to the Python World\")\n",
    "\n",
    "print (\"I don't know about Python before\")\n",
    "print ('I don\\'t know about \"Python\" language before ')\n",
    "\n",
    "\n",
    "# Multiline string\n",
    "text = \"\"\"Python is an interpreted, high-level, general-purpose programming language\n",
    "Created by Guido van Rossum and first released in 1991,\"\"\"\n",
    "    \n",
    "print(text)"
   ]
  },
  {
   "cell_type": "markdown",
   "metadata": {},
   "source": [
    "## String Manipulations:\n",
    "\n",
    "\n",
    "    # \\n        -  represents New Line\n",
    "    # \\t        -  represents New Tap\n",
    "    # \\\\        -  represents actual backslash\n",
    "    # r         -  represents raw data\n",
    "    \n",
    "    # in        -  Operator to check for a substring\n",
    "    # not in    -  Operator to check for does n't exisit - substring\n",
    "    \n",
    "    # upper()   -  Converting given string into Uppercase\n",
    "    # lower()   -  Converting given string into Lowercase \n",
    "    \n",
    "## Verfication\n",
    "\n",
    "    # isupper()    -  verify given string is uppercase or not -> returns -> boolean\n",
    "    # islower()    -  verify given string is lowercase or not -> returns -> boolean\n",
    "    # isnumeric()  -  verify given string is number\n",
    "    # isdecimal()  -  verify given string is decimal\n",
    "    # startswith() -  verify given string is starts with letter or word -> returns -> boolean\n",
    "    # endswith()   -  verify given string is ends with letter or word -> returns -> boolean\n",
    "  \n",
    "    # split()      -  split the words based on the given delimiter -> returns -> list\n",
    "    # join()       -  join the collection words based on the given delimiter -> string\n",
    "    \n",
    "    # strip()      -  its remove white space on both side\n",
    "    # lstrip()     -  its remove white space on left side\n",
    "    # rstrip()     -  its remove white space on right side\n",
    "    \n",
    "    # index()      -  its gives character index number in given string\n",
    "    # capitalize() -  returns capitalize version of given String.\n",
    "    \n",
    "#Index number \n",
    "\n",
    "    # str = \"w e l c o m e\"\n",
    "             0 1 2 3 4 5 6\n",
    "            -7-6-5-4-3-2-1\n",
    "    "
   ]
  },
  {
   "cell_type": "code",
   "execution_count": 2,
   "metadata": {},
   "outputs": [
    {
     "name": "stdout",
     "output_type": "stream",
     "text": [
      "Welcome to the \\n Python World\n"
     ]
    }
   ],
   "source": [
    "# for new Line\n",
    "txt = 'Welcome to the \\\\n Python World'\n",
    "print(txt)"
   ]
  },
  {
   "cell_type": "code",
   "execution_count": 3,
   "metadata": {},
   "outputs": [
    {
     "name": "stdout",
     "output_type": "stream",
     "text": [
      "Welcome to the \t Python World\n"
     ]
    }
   ],
   "source": [
    "# for new Tap\n",
    "txt = \"Welcome to the \\t Python World\"\n",
    "print(txt)"
   ]
  },
  {
   "cell_type": "code",
   "execution_count": 4,
   "metadata": {},
   "outputs": [
    {
     "name": "stdout",
     "output_type": "stream",
     "text": [
      "Welcome to the \\ Python World\n"
     ]
    }
   ],
   "source": [
    "# for backslash\n",
    "txt = \"Welcome to the \\\\ Python World\"\n",
    "print(txt)"
   ]
  },
  {
   "cell_type": "code",
   "execution_count": 5,
   "metadata": {},
   "outputs": [
    {
     "name": "stdout",
     "output_type": "stream",
     "text": [
      "Welcome to the \\n Python World\n"
     ]
    }
   ],
   "source": [
    "# for backslash\n",
    "txt = r\"Welcome to the \\n Python World\"\n",
    "print(txt)"
   ]
  },
  {
   "cell_type": "code",
   "execution_count": 6,
   "metadata": {},
   "outputs": [
    {
     "name": "stdout",
     "output_type": "stream",
     "text": [
      "WELCOME TO THE PYTHON WORLD\n"
     ]
    }
   ],
   "source": [
    "# UpperCase\n",
    "txt = 'Welcome to the Python World'\n",
    "print(txt.upper())"
   ]
  },
  {
   "cell_type": "code",
   "execution_count": 7,
   "metadata": {},
   "outputs": [
    {
     "name": "stdout",
     "output_type": "stream",
     "text": [
      "welcome to the python world\n"
     ]
    }
   ],
   "source": [
    "# lowerCase\n",
    "txt = 'Welcome to the Python world'\n",
    "print(txt.lower())"
   ]
  },
  {
   "cell_type": "code",
   "execution_count": 8,
   "metadata": {},
   "outputs": [
    {
     "name": "stdout",
     "output_type": "stream",
     "text": [
      "False\n",
      "True\n"
     ]
    }
   ],
   "source": [
    "# isupper\n",
    "txt = 'Welcome to the Python world'\n",
    "print(txt.isupper())\n",
    "print(txt.upper().isupper())"
   ]
  },
  {
   "cell_type": "code",
   "execution_count": 9,
   "metadata": {},
   "outputs": [
    {
     "name": "stdout",
     "output_type": "stream",
     "text": [
      "False\n",
      "True\n"
     ]
    }
   ],
   "source": [
    "# islower\n",
    "txt = 'WelCome to the Python world'\n",
    "print(txt.islower())\n",
    "print(txt.lower().islower())"
   ]
  },
  {
   "cell_type": "code",
   "execution_count": 10,
   "metadata": {},
   "outputs": [
    {
     "name": "stdout",
     "output_type": "stream",
     "text": [
      "True\n",
      "True\n"
     ]
    }
   ],
   "source": [
    "# isnumeric\n",
    "txt = '123456'\n",
    "print(txt.isnumeric())\n",
    "print(txt.isdecimal())"
   ]
  },
  {
   "cell_type": "code",
   "execution_count": 11,
   "metadata": {},
   "outputs": [
    {
     "name": "stdout",
     "output_type": "stream",
     "text": [
      "True\n"
     ]
    }
   ],
   "source": [
    "# isdecimal\n",
    "txt = '109040'\n",
    "print(txt.isdecimal())"
   ]
  },
  {
   "cell_type": "code",
   "execution_count": 12,
   "metadata": {},
   "outputs": [
    {
     "data": {
      "text/plain": [
       "False"
      ]
     },
     "execution_count": 12,
     "metadata": {},
     "output_type": "execute_result"
    }
   ],
   "source": [
    "# startswith\n",
    "txt = 'believe yourself first we have very good pieces full life'\n",
    "txt.startswith('kjahfkjasdhf')"
   ]
  },
  {
   "cell_type": "code",
   "execution_count": 13,
   "metadata": {},
   "outputs": [
    {
     "name": "stdout",
     "output_type": "stream",
     "text": [
      "True\n"
     ]
    }
   ],
   "source": [
    "# endsWith\n",
    "txt = 'believe yourself first'\n",
    "print (txt.endswith('first'))"
   ]
  },
  {
   "cell_type": "code",
   "execution_count": 14,
   "metadata": {},
   "outputs": [
    {
     "name": "stdout",
     "output_type": "stream",
     "text": [
      "['believe', 'yourself', 'first', 'we', 'have', 'very', 'good', 'pieces', 'full', 'life']\n",
      "<class 'list'>\n"
     ]
    }
   ],
   "source": [
    "# split\n",
    "txt = 'believe yourself first we have very good pieces full life'\n",
    "words = txt.split(' ')\n",
    "print(words)\n",
    "print(type(words))"
   ]
  },
  {
   "cell_type": "code",
   "execution_count": 15,
   "metadata": {},
   "outputs": [
    {
     "data": {
      "text/plain": [
       "'believe@yourself@first@we@have@very@good@pieces@full@life'"
      ]
     },
     "execution_count": 15,
     "metadata": {},
     "output_type": "execute_result"
    }
   ],
   "source": [
    "# join\n",
    "txt = 'believe yourself first we have very good pieces full life'\n",
    "words = txt.split(' ')\n",
    "\n",
    "'@'.join(words)"
   ]
  },
  {
   "cell_type": "code",
   "execution_count": 16,
   "metadata": {},
   "outputs": [
    {
     "name": "stdout",
     "output_type": "stream",
     "text": [
      "Python is an interpreted, high-level,    general-purpose programming language\n",
      "Python is an interpreted, high-level,    general-purpose programming language    \n",
      "    Python is an interpreted, high-level,    general-purpose programming language\n"
     ]
    }
   ],
   "source": [
    "# strip\n",
    "txt = \"    Python is an interpreted, high-level,    general-purpose programming language    \"\n",
    "print(txt.strip())\n",
    "print(txt.lstrip())\n",
    "print(txt.rstrip())"
   ]
  },
  {
   "cell_type": "code",
   "execution_count": 17,
   "metadata": {},
   "outputs": [
    {
     "name": "stdout",
     "output_type": "stream",
     "text": [
      "emocleW\n"
     ]
    }
   ],
   "source": [
    "txt = \"Welcome\"\n",
    "# print(txt[1])\n",
    "# print(txt[0:])\n",
    "# print(txt[3:6])\n",
    "# print(txt[:4])\n",
    "print(txt[::-1])\n",
    "# print(txt[0:5:2])"
   ]
  },
  {
   "cell_type": "code",
   "execution_count": 18,
   "metadata": {},
   "outputs": [
    {
     "ename": "IndexError",
     "evalue": "string index out of range",
     "output_type": "error",
     "traceback": [
      "\u001b[1;31m---------------------------------------------------------------------------\u001b[0m",
      "\u001b[1;31mIndexError\u001b[0m                                Traceback (most recent call last)",
      "\u001b[1;32m<ipython-input-18-a096dc385993>\u001b[0m in \u001b[0;36m<module>\u001b[1;34m\u001b[0m\n\u001b[1;32m----> 1\u001b[1;33m \u001b[0mprint\u001b[0m\u001b[1;33m(\u001b[0m\u001b[0mtxt\u001b[0m\u001b[1;33m[\u001b[0m\u001b[1;36m25\u001b[0m\u001b[1;33m]\u001b[0m\u001b[1;33m)\u001b[0m\u001b[1;33m\u001b[0m\u001b[1;33m\u001b[0m\u001b[0m\n\u001b[0m",
      "\u001b[1;31mIndexError\u001b[0m: string index out of range"
     ]
    }
   ],
   "source": [
    "print(txt[25])"
   ]
  },
  {
   "cell_type": "code",
   "execution_count": 19,
   "metadata": {},
   "outputs": [
    {
     "ename": "TypeError",
     "evalue": "string indices must be integers",
     "output_type": "error",
     "traceback": [
      "\u001b[1;31m---------------------------------------------------------------------------\u001b[0m",
      "\u001b[1;31mTypeError\u001b[0m                                 Traceback (most recent call last)",
      "\u001b[1;32m<ipython-input-19-5a712ae6adc4>\u001b[0m in \u001b[0;36m<module>\u001b[1;34m\u001b[0m\n\u001b[1;32m----> 1\u001b[1;33m \u001b[0mprint\u001b[0m\u001b[1;33m(\u001b[0m\u001b[0mtxt\u001b[0m\u001b[1;33m[\u001b[0m\u001b[1;36m1.5\u001b[0m\u001b[1;33m]\u001b[0m\u001b[1;33m)\u001b[0m\u001b[1;33m\u001b[0m\u001b[1;33m\u001b[0m\u001b[0m\n\u001b[0m",
      "\u001b[1;31mTypeError\u001b[0m: string indices must be integers"
     ]
    }
   ],
   "source": [
    "print(txt[1.5])"
   ]
  },
  {
   "cell_type": "code",
   "execution_count": 20,
   "metadata": {},
   "outputs": [
    {
     "ename": "TypeError",
     "evalue": "can only concatenate str (not \"int\") to str",
     "output_type": "error",
     "traceback": [
      "\u001b[1;31m---------------------------------------------------------------------------\u001b[0m",
      "\u001b[1;31mTypeError\u001b[0m                                 Traceback (most recent call last)",
      "\u001b[1;32m<ipython-input-20-e25baab97cbd>\u001b[0m in \u001b[0;36m<module>\u001b[1;34m\u001b[0m\n\u001b[0;32m      2\u001b[0m \u001b[1;33m\u001b[0m\u001b[0m\n\u001b[0;32m      3\u001b[0m \u001b[0mtxt\u001b[0m \u001b[1;33m=\u001b[0m \u001b[1;34m\"Welcome\"\u001b[0m\u001b[1;33m\u001b[0m\u001b[1;33m\u001b[0m\u001b[0m\n\u001b[1;32m----> 4\u001b[1;33m \u001b[0mprint\u001b[0m\u001b[1;33m(\u001b[0m\u001b[0mtxt\u001b[0m \u001b[1;33m+\u001b[0m \u001b[1;36m123123\u001b[0m\u001b[1;33m)\u001b[0m\u001b[1;33m\u001b[0m\u001b[1;33m\u001b[0m\u001b[0m\n\u001b[0m\u001b[0;32m      5\u001b[0m \u001b[0mprint\u001b[0m\u001b[1;33m(\u001b[0m\u001b[0mtxt\u001b[0m \u001b[1;33m*\u001b[0m \u001b[1;36m2\u001b[0m\u001b[1;33m)\u001b[0m\u001b[1;33m\u001b[0m\u001b[1;33m\u001b[0m\u001b[0m\n\u001b[0;32m      6\u001b[0m \u001b[1;31m#print(txt + 2)\u001b[0m\u001b[1;33m\u001b[0m\u001b[1;33m\u001b[0m\u001b[1;33m\u001b[0m\u001b[0m\n",
      "\u001b[1;31mTypeError\u001b[0m: can only concatenate str (not \"int\") to str"
     ]
    }
   ],
   "source": [
    "# + *\n",
    "\n",
    "txt = \"Welcome\"\n",
    "print(txt + 123123)\n",
    "print(txt * 2)\n",
    "#print(txt + 2)\n"
   ]
  },
  {
   "cell_type": "code",
   "execution_count": 21,
   "metadata": {},
   "outputs": [
    {
     "name": "stdout",
     "output_type": "stream",
     "text": [
      "5\n"
     ]
    }
   ],
   "source": [
    "# index\n",
    "txt = \"    Python is an interpreted, high-level,    general-purpose programming language    \"\n",
    "print(txt.index('y'))"
   ]
  },
  {
   "cell_type": "code",
   "execution_count": 22,
   "metadata": {},
   "outputs": [
    {
     "name": "stdout",
     "output_type": "stream",
     "text": [
      "Python is an interpreted, high-level, general-purpose programming\n"
     ]
    }
   ],
   "source": [
    "txt = \"python is an interpreted, high-level, general-purpose programming\"\n",
    "print(txt.capitalize())"
   ]
  }
 ],
 "metadata": {
  "kernelspec": {
   "display_name": "Python 3",
   "language": "python",
   "name": "python3"
  },
  "language_info": {
   "codemirror_mode": {
    "name": "ipython",
    "version": 3
   },
   "file_extension": ".py",
   "mimetype": "text/x-python",
   "name": "python",
   "nbconvert_exporter": "python",
   "pygments_lexer": "ipython3",
   "version": "3.7.3"
  }
 },
 "nbformat": 4,
 "nbformat_minor": 2
}
