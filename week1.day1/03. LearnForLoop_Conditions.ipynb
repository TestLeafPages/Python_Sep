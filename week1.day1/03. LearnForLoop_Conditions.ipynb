{
 "cells": [
  {
   "cell_type": "code",
   "execution_count": 25,
   "metadata": {},
   "outputs": [
    {
     "name": "stdout",
     "output_type": "stream",
     "text": [
      "\n",
      "Here is a list of the Python keywords.  Enter any keyword to get more help.\n",
      "\n",
      "False               class               from                or\n",
      "None                continue            global              pass\n",
      "True                def                 if                  raise\n",
      "and                 del                 import              return\n",
      "as                  elif                in                  try\n",
      "assert              else                is                  while\n",
      "async               except              lambda              with\n",
      "await               finally             nonlocal            yield\n",
      "break               for                 not                 \n",
      "\n"
     ]
    }
   ],
   "source": [
    "help('keywords')"
   ]
  },
  {
   "cell_type": "code",
   "execution_count": 2,
   "metadata": {},
   "outputs": [
    {
     "name": "stdout",
     "output_type": "stream",
     "text": [
      "0\n",
      "1\n",
      "2\n",
      "3\n",
      "4\n",
      "5\n",
      "6\n",
      "7\n",
      "8\n",
      "9\n"
     ]
    }
   ],
   "source": [
    "# for-in using range()\n",
    "\n",
    "for i in range(10): \n",
    "    print(i)\n"
   ]
  },
  {
   "cell_type": "code",
   "execution_count": 4,
   "metadata": {},
   "outputs": [
    {
     "name": "stdout",
     "output_type": "stream",
     "text": [
      "1000\n",
      "1002\n",
      "1004\n",
      "1006\n",
      "1008\n",
      "1010\n",
      "1012\n",
      "1014\n",
      "1016\n",
      "1018\n",
      "1020\n",
      "1022\n",
      "1024\n",
      "1026\n",
      "1028\n",
      "1030\n",
      "1032\n",
      "1034\n",
      "1036\n",
      "1038\n",
      "1040\n",
      "1042\n",
      "1044\n",
      "1046\n",
      "1048\n",
      "1050\n",
      "1052\n",
      "1054\n",
      "1056\n",
      "1058\n",
      "1060\n",
      "1062\n",
      "1064\n",
      "1066\n",
      "1068\n",
      "1070\n",
      "1072\n",
      "1074\n",
      "1076\n",
      "1078\n",
      "1080\n",
      "1082\n",
      "1084\n",
      "1086\n",
      "1088\n",
      "1090\n",
      "1092\n",
      "1094\n",
      "1096\n",
      "1098\n",
      "1100\n"
     ]
    }
   ],
   "source": [
    "# Syntax:-  range(end)\n",
    "#           range(start, end)\n",
    "#           range(start, end, steps) ---------------------> Note:- start - inclusive and end - exclusive\n",
    "\n",
    "for i in range(1000, 1101, 2):\n",
    "    print(i)"
   ]
  },
  {
   "cell_type": "code",
   "execution_count": 2,
   "metadata": {},
   "outputs": [
    {
     "name": "stdout",
     "output_type": "stream",
     "text": [
      "Welcome to Python world \n"
     ]
    }
   ],
   "source": [
    "x = \"world\"\n",
    "\n",
    "print(f'Welcome to Python {x} ') # sample of formating String"
   ]
  },
  {
   "cell_type": "code",
   "execution_count": 3,
   "metadata": {},
   "outputs": [
    {
     "name": "stdout",
     "output_type": "stream",
     "text": [
      "5 * 1 = 5\n",
      "5 * 2 = 10\n",
      "5 * 3 = 15\n",
      "5 * 4 = 20\n",
      "5 * 5 = 25\n",
      "5 * 6 = 30\n",
      "5 * 7 = 35\n",
      "5 * 8 = 40\n",
      "5 * 9 = 45\n",
      "5 * 10 = 50\n"
     ]
    }
   ],
   "source": [
    "for i in range(1, 11):\n",
    "    print(f\"5 * {i} = {5 * i}\") # sample of formating String"
   ]
  },
  {
   "cell_type": "code",
   "execution_count": null,
   "metadata": {},
   "outputs": [],
   "source": []
  }
 ],
 "metadata": {
  "kernelspec": {
   "display_name": "Python 3",
   "language": "python",
   "name": "python3"
  },
  "language_info": {
   "codemirror_mode": {
    "name": "ipython",
    "version": 3
   },
   "file_extension": ".py",
   "mimetype": "text/x-python",
   "name": "python",
   "nbconvert_exporter": "python",
   "pygments_lexer": "ipython3",
   "version": "3.7.3"
  }
 },
 "nbformat": 4,
 "nbformat_minor": 2
}
